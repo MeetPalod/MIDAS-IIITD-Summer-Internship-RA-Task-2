{
  "nbformat": 4,
  "nbformat_minor": 0,
  "metadata": {
    "colab": {
      "name": "MidasTask2-a.ipynb",
      "provenance": [],
      "collapsed_sections": []
    },
    "kernelspec": {
      "name": "python3",
      "display_name": "Python 3"
    },
    "language_info": {
      "name": "python"
    },
    "accelerator": "GPU"
  },
  "cells": [
    {
      "cell_type": "code",
      "metadata": {
        "colab": {
          "base_uri": "https://localhost:8080/"
        },
        "id": "fOG1qBiYfqYG",
        "outputId": "48fed168-2d6e-4924-b651-bd0b84ed6bd8"
      },
      "source": [
        "from google.colab import drive\n",
        "drive.mount('/content/gdrive')"
      ],
      "execution_count": 1,
      "outputs": [
        {
          "output_type": "stream",
          "text": [
            "Mounted at /content/gdrive\n"
          ],
          "name": "stdout"
        }
      ]
    },
    {
      "cell_type": "code",
      "metadata": {
        "colab": {
          "base_uri": "https://localhost:8080/"
        },
        "id": "NCz4l5EAf57_",
        "outputId": "59cc3ea6-905f-4e62-a0f4-334a38edd069"
      },
      "source": [
        "import torch\n",
        "from torchvision.datasets import ImageFolder\n",
        "from torch.utils.data import Subset\n",
        "from sklearn.model_selection import train_test_split\n",
        "from torchvision.transforms import Compose, ToTensor, Normalize,Resize ,CenterCrop ,Grayscale\n",
        "from torch.utils.data import DataLoader\n",
        "\n",
        "def train_val_dataset(dataset, val_split=0.25):\n",
        "    train_idx, val_idx = train_test_split(list(range(len(dataset))), test_size=val_split)\n",
        "    datasets = {}\n",
        "    datasets['train'] = Subset(dataset, train_idx)\n",
        "    datasets['val'] = Subset(dataset, val_idx)\n",
        "    return datasets\n",
        "m = [0.485, 0.456, 0.406]\n",
        "s = [0.229, 0.224, 0.225]\n",
        "dataset = ImageFolder(r\"/content/gdrive/MyDrive/Datasets/train\", transform=Compose([Resize(256),\n",
        "        CenterCrop(224),ToTensor(),Normalize(                      \n",
        "                         mean = m,\n",
        "                         std = s\n",
        "                     )  ]))\n",
        "print(len(dataset))\n",
        "datasets = train_val_dataset(dataset)\n",
        "print(len(datasets['train']))\n",
        "print(len(datasets['val']))"
      ],
      "execution_count": 2,
      "outputs": [
        {
          "output_type": "stream",
          "text": [
            "2480\n",
            "1860\n",
            "620\n"
          ],
          "name": "stdout"
        }
      ]
    },
    {
      "cell_type": "code",
      "metadata": {
        "colab": {
          "base_uri": "https://localhost:8080/",
          "height": 222
        },
        "id": "lt28z8_cf_cT",
        "outputId": "3b136e85-8464-43d0-df5f-abbdd0287238"
      },
      "source": [
        "import cv2                \n",
        "import numpy as np\n",
        "import matplotlib.pyplot as plt                        \n",
        "%matplotlib inline    \n",
        "dataloaders = {x:DataLoader(datasets[x],20, shuffle=True, num_workers=0) for x in ['train','val']}\n",
        "x,y = next(iter(dataloaders['train']))\n",
        "print(x.shape, y.shape)\n",
        "\n",
        "import torchvision\n",
        "def imshow(inp, title=None):\n",
        "    \"\"\"Imshow for Tensor.\"\"\"\n",
        "    inp = inp.numpy().transpose((1, 2, 0))\n",
        "    mean = np.array([0.485, 0.456, 0.406])\n",
        "    std = np.array([0.229, 0.224, 0.225])\n",
        "    inp = std * inp + mean\n",
        "    inp = np.clip(inp, 0, 1)\n",
        "    plt.imshow(inp)\n",
        "    if title is not None:\n",
        "        plt.title(title)\n",
        "    plt.pause(0.001) \n",
        "\n",
        "inputs, classes = next(iter(dataloaders['train']))\n",
        "out = torchvision.utils.make_grid(inputs)\n",
        "imshow(out , title = classes+1)"
      ],
      "execution_count": 3,
      "outputs": [
        {
          "output_type": "stream",
          "text": [
            "torch.Size([20, 3, 224, 224]) torch.Size([20])\n"
          ],
          "name": "stdout"
        },
        {
          "output_type": "display_data",
          "data": {
            "image/png": "[encoded data removed]",
            "text/plain": [
              "<Figure size 432x288 with 1 Axes>"
            ]
          },
          "metadata": {
            "tags": [],
            "needs_background": "light"
          }
        }
      ]
    },
    {
      "cell_type": "code",
      "metadata": {
        "id": "AOz34ImagBZv",
        "colab": {
          "base_uri": "https://localhost:8080/"
        },
        "outputId": "4496f34a-68d5-434b-a758-c1adeb4554af"
      },
      "source": [
        "use_cuda = torch.cuda.is_available()\n",
        "print(use_cuda)"
      ],
      "execution_count": 4,
      "outputs": [
        {
          "output_type": "stream",
          "text": [
            "True\n"
          ],
          "name": "stdout"
        }
      ]
    },
    {
      "cell_type": "code",
      "metadata": {
        "id": "X_ZkwEsQgDVB"
      },
      "source": [
        "import torch.nn as nn\n",
        "import torch.nn.functional as F\n",
        "\n",
        "class Net(nn.Module):\n",
        "\n",
        "    def __init__(self):\n",
        "        super(Net, self).__init__()\n",
        "        self.conv1 = nn.Conv2d(3,32,3,padding =1)\n",
        "        self.conv1_bn = nn.BatchNorm2d(32)\n",
        "        self.conv2 = nn.Conv2d(32,128,3,padding =1)\n",
        "        self.conv2_bn = nn.BatchNorm2d(128)\n",
        "        #self.conv3 = nn.Conv2d(128,256,3,padding =1)\n",
        "        #self.conv3_bn = nn.BatchNorm2d(256)\n",
        "        self.pool = nn.MaxPool2d(2,2)\n",
        "        self.dropout = nn.Dropout(0.25)\n",
        "        self.fc1 = nn.Linear(56 * 56 * 128, 1000) #28*28*256\n",
        "        self.fc2 = nn.Linear(1000, 62)\n",
        "    \n",
        "    def forward(self, x):\n",
        "        x = self.pool(F.relu(self.conv1_bn(self.conv1(x))))\n",
        "        x = self.pool(F.relu(self.conv2_bn(self.conv2(x))))\n",
        "        #x = self.pool(F.relu(self.conv3_bn(self.conv3(x))))\n",
        "        x= x.view(x.size(0), -1)\n",
        "        x = self.dropout(x)\n",
        "        x= self.fc1(x)\n",
        "        x= self.fc2(x)\n",
        "        return x\n",
        "\n",
        "\n",
        "model_scratch = Net()\n",
        "if use_cuda:\n",
        "    model_scratch.cuda()"
      ],
      "execution_count": 5,
      "outputs": []
    },
    {
      "cell_type": "code",
      "metadata": {
        "id": "P3wLH0UxgFj6"
      },
      "source": [
        "import torch.optim as optim\n",
        "\n",
        "criterion_scratch = nn.CrossEntropyLoss()\n",
        "optimizer_scratch = optim.Adam(model_scratch.parameters() , lr = 0.001)"
      ],
      "execution_count": 6,
      "outputs": []
    },
    {
      "cell_type": "code",
      "metadata": {
        "id": "7iIAVUvDgH3K"
      },
      "source": [
        "import time\n",
        "n_epochs_stop = 5\n",
        "epochs_no_improve = 0\n",
        "\n",
        "def train(n_epochs, loaders, model, optimizer, criterion, use_cuda, save_path):\n",
        "    \n",
        "    since = time.time()\n",
        "    valid_loss_min = np.Inf \n",
        "    running_corrects = 0\n",
        "    \n",
        "    for epoch in range(1 , n_epochs+1):\n",
        "        train_loss = 0.0\n",
        "        valid_loss = 0.0\n",
        "        model.train()\n",
        "        for batch_idx, (data, target) in enumerate(loaders['train']):\n",
        "            # move to GPU\n",
        "            if use_cuda:\n",
        "                data, target = data.cuda(), target.cuda()\n",
        "            optimizer.zero_grad()\n",
        "            out = model(data)\n",
        "            loss = criterion(out,target)\n",
        "            loss.backward()\n",
        "            optimizer.step()\n",
        "            train_loss = train_loss + ((1 / (batch_idx + 1)) * (loss.data - train_loss))\n",
        "            \n",
        "            \n",
        "        model.eval()\n",
        "        for batch_idx, (data, target) in enumerate(loaders['val']):\n",
        "            if use_cuda:\n",
        "                data, target = data.cuda(), target.cuda()\n",
        "            outputs = model(data)\n",
        "            loss = criterion(outputs, target)\n",
        "            valid_loss = valid_loss + ((1 / (batch_idx + 1)) * (loss.data - valid_loss))\n",
        "          \n",
        "            _, preds = torch.max(outputs, 1)\n",
        "            running_corrects += torch.sum(preds  == target.data)\n",
        "\n",
        "        epoch_acc = running_corrects.double() / len(datasets['val'])\n",
        "    \n",
        "        print('Epoch: {} \\tTraining Loss: {:.6f} \\tValidation Loss: {:.6f} \\tEpoc Accuracy: {:.6f}'.format(\n",
        "            epoch, \n",
        "            train_loss,\n",
        "            valid_loss,\n",
        "            epoch_acc\n",
        "            ))\n",
        "        \n",
        "        if valid_loss < valid_loss_min:\n",
        "            print('Validation loss decreased ({:.6f} --> {:.6f}). Saving the model'.format(valid_loss_min, valid_loss))\n",
        "            torch.save(model.state_dict(), save_path)\n",
        "            epochs_no_improve = 0\n",
        "            valid_loss_min = valid_loss \n",
        "        else:\n",
        "            epochs_no_improve += 1\n",
        "            if epochs_no_improve == n_epochs_stop:\n",
        "              print('Early stopping!')\n",
        "              time_elapsed = time.time() - since\n",
        "              return model\n",
        "              print('Training complete in {:.0f}m {:.0f}s'.format(time_elapsed // 60, time_elapsed % 60))    \n",
        "    \n",
        "    time_elapsed = time.time() - since\n",
        "    print('Training complete in {:.0f}m {:.0f}s'.format(time_elapsed // 60, time_elapsed % 60))\n",
        "            \n",
        "    return model\n"
      ],
      "execution_count": 7,
      "outputs": []
    },
    {
      "cell_type": "code",
      "metadata": {
        "id": "GGwZCTW0gLoO",
        "colab": {
          "base_uri": "https://localhost:8080/"
        },
        "outputId": "ab1c8061-27cd-4aa4-871c-645658a9fc1e"
      },
      "source": [
        "model_scratch = train(15, dataloaders, model_scratch, optimizer_scratch, \n",
        "                      criterion_scratch, use_cuda, r'/content/gdrive/MyDrive/Saved models/model_scratch.pt')\n"
      ],
      "execution_count": 8,
      "outputs": [
        {
          "output_type": "stream",
          "text": [
            "Epoch: 1 \tTraining Loss: 212.796082 \tValidation Loss: 52.786343 \tEpoc Accuracy: 0.096774\n",
            "Validation loss decreased (inf --> 52.786343). Saving the model\n",
            "Epoch: 2 \tTraining Loss: 19.070986 \tValidation Loss: 41.708168 \tEpoc Accuracy: 0.272581\n",
            "Validation loss decreased (52.786343 --> 41.708168). Saving the model\n",
            "Epoch: 3 \tTraining Loss: 7.691762 \tValidation Loss: 42.673405 \tEpoc Accuracy: 0.450000\n",
            "Epoch: 4 \tTraining Loss: 4.114144 \tValidation Loss: 50.633774 \tEpoc Accuracy: 0.625806\n",
            "Epoch: 5 \tTraining Loss: 2.094263 \tValidation Loss: 35.458817 \tEpoc Accuracy: 0.885484\n",
            "Validation loss decreased (41.708168 --> 35.458817). Saving the model\n",
            "Epoch: 6 \tTraining Loss: 1.502424 \tValidation Loss: 51.019962 \tEpoc Accuracy: 1.069355\n",
            "Epoch: 7 \tTraining Loss: 1.124281 \tValidation Loss: 38.012405 \tEpoc Accuracy: 1.308065\n",
            "Epoch: 8 \tTraining Loss: 0.677793 \tValidation Loss: 49.942638 \tEpoc Accuracy: 1.511290\n",
            "Epoch: 9 \tTraining Loss: 0.618189 \tValidation Loss: 44.017059 \tEpoc Accuracy: 1.717742\n",
            "Epoch: 10 \tTraining Loss: 0.532796 \tValidation Loss: 48.532738 \tEpoc Accuracy: 1.950000\n",
            "Early stopping!\n"
          ],
          "name": "stdout"
        }
      ]
    },
    {
      "cell_type": "code",
      "metadata": {
        "colab": {
          "base_uri": "https://localhost:8080/"
        },
        "id": "sP3Y78zSsJXt",
        "outputId": "f6a35188-dcf6-4bb6-cce3-9564a1340b3d"
      },
      "source": [
        "model_scratch = train(5, dataloaders, model_scratch, optimizer_scratch, \n",
        "                      criterion_scratch, use_cuda, r'/content/gdrive/MyDrive/Saved models/model_scratch.pt')"
      ],
      "execution_count": 9,
      "outputs": [
        {
          "output_type": "stream",
          "text": [
            "Epoch: 1 \tTraining Loss: 0.686277 \tValidation Loss: 40.811626 \tEpoc Accuracy: 0.261290\n",
            "Validation loss decreased (inf --> 40.811626). Saving the model\n",
            "Epoch: 2 \tTraining Loss: 0.616232 \tValidation Loss: 39.948078 \tEpoc Accuracy: 0.482258\n",
            "Validation loss decreased (40.811626 --> 39.948078). Saving the model\n",
            "Epoch: 3 \tTraining Loss: 0.488009 \tValidation Loss: 42.298672 \tEpoc Accuracy: 0.714516\n",
            "Epoch: 4 \tTraining Loss: 0.590777 \tValidation Loss: 46.030693 \tEpoc Accuracy: 0.914516\n",
            "Epoch: 5 \tTraining Loss: 0.539738 \tValidation Loss: 49.421143 \tEpoc Accuracy: 1.098387\n",
            "Training complete in 4m 57s\n"
          ],
          "name": "stdout"
        }
      ]
    },
    {
      "cell_type": "markdown",
      "metadata": {
        "id": "jDtQ-R8mtarx"
      },
      "source": [
        "#time taken = 16 minutes"
      ]
    }
  ]
}